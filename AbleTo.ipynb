{
 "cells": [
  {
   "cell_type": "code",
   "execution_count": 111,
   "metadata": {
    "collapsed": false
   },
   "outputs": [
    {
     "name": "stdout",
     "output_type": "stream",
     "text": [
      "the ratio is 0.0421012891859392\n"
     ]
    }
   ],
   "source": [
    "import pandas as pd\n",
    "df_diabetes=pd.read_csv(\"./dataset_diabetes/diabetic_data.csv\")\n",
    "#a=(df_diabetes.groupby('patient_nbr'))\n",
    "#df_diabetes=a.get_group(18030078)\n",
    "counts =df_diabetes['patient_nbr'].value_counts()\n",
    "total_patients=len(counts)\n",
    "counts_3=0\n",
    "for ind , value in counts.iteritems():\n",
    "    if(value>3):\n",
    "        counts_3=counts_3+1\n",
    "ratio_1=counts_3/total_patients;\n",
    "print(\"the ratio is\", ratio_1)"
   ]
  },
  {
   "cell_type": "code",
   "execution_count": 112,
   "metadata": {
    "collapsed": false
   },
   "outputs": [
    {
     "name": "stdout",
     "output_type": "stream",
     "text": [
      "number of patients admitted ateast once with admission type 'Emergency' and 'Elective'= 3169\n"
     ]
    }
   ],
   "source": [
    "grouped= df_diabetes.groupby(['patient_nbr'])\n",
    "count=0\n",
    "for name, group in grouped:\n",
    "    if (group['admission_type_id']== 3).any() and (group['admission_type_id']== 1).any():\n",
    "        count=count+1\n",
    "    \n",
    "print(\"number of patients admitted ateast once with admission type 'Emergency' and 'Elective'=\", count)\n",
    "    \n"
   ]
  },
  {
   "cell_type": "code",
   "execution_count": 113,
   "metadata": {
    "collapsed": false
   },
   "outputs": [
    {
     "name": "stdout",
     "output_type": "stream",
     "text": [
      "number of max prcoedures = 51\n",
      "number of admissions for patient with max procedures = 21\n"
     ]
    }
   ],
   "source": [
    "proc= df_diabetes.groupby(['patient_nbr'])['num_procedures'].sum()\n",
    "max_procedures=proc.max()\n",
    "max_procedures_nbr=proc.idxmax()\n",
    "admissions_number=(df_diabetes['patient_nbr']==max_procedures_nbr).sum()\n",
    "print(\"number of max prcoedures =\", max_procedures)\n",
    "print(\"number of admissions for patient with max procedures =\", admissions_number)"
   ]
  }
 ],
 "metadata": {
  "kernelspec": {
   "display_name": "Python 3",
   "language": "python",
   "name": "python3"
  },
  "language_info": {
   "codemirror_mode": {
    "name": "ipython",
    "version": 3
   },
   "file_extension": ".py",
   "mimetype": "text/x-python",
   "name": "python",
   "nbconvert_exporter": "python",
   "pygments_lexer": "ipython3",
   "version": "3.5.1"
  }
 },
 "nbformat": 4,
 "nbformat_minor": 0
}
